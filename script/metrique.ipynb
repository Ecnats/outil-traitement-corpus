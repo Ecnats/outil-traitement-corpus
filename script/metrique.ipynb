{
 "cells": [
  {
   "cell_type": "code",
   "execution_count": 16,
   "metadata": {},
   "outputs": [
    {
     "data": {
      "text/plain": [
       "' Spreadsheet Column Printer\\nà travers ce script on déduplique les données du corpus, pour appliquer des métriques sur les données\\nla métrique qui a été réussi ici est ROUGE\\n\\n'"
      ]
     },
     "execution_count": 16,
     "metadata": {},
     "output_type": "execute_result"
    }
   ],
   "source": [
    "\"\"\" Spreadsheet Column Printer\n",
    "à travers ce script on déduplique les données du corpus, pour appliquer des métriques sur les données\n",
    "la métrique qui a été réussi ici est ROUGE\n",
    "puis il y a une tentative de calcul de corrélation de Pearson et Spearman\n",
    "\"\"\""
   ]
  },
  {
   "cell_type": "code",
   "execution_count": 17,
   "metadata": {},
   "outputs": [],
   "source": [
    "import pandas as pd\n",
    "\n",
    "df = pd.read_csv('../data/histoires_resumes_sentiment.csv')\n",
    "\n",
    "# Supprimer 2 colonnes\n",
    "df.drop(columns=[\"histoire_sentiment\", \"resume_sentiment\"], inplace=True)\n",
    "\n",
    "# nouveau csv\n",
    "df.to_csv('../data/histoires_resumes_duplicate.csv', index=False)"
   ]
  },
  {
   "cell_type": "code",
   "execution_count": 18,
   "metadata": {},
   "outputs": [
    {
     "name": "stdout",
     "output_type": "stream",
     "text": [
      "Requirement already satisfied: rouge_score in /home/coco97/miniconda3/envs/outil-tao2/lib/python3.11/site-packages (0.1.2)\n",
      "Requirement already satisfied: absl-py in /home/coco97/miniconda3/envs/outil-tao2/lib/python3.11/site-packages (from rouge_score) (2.1.0)\n",
      "Requirement already satisfied: nltk in /home/coco97/miniconda3/envs/outil-tao2/lib/python3.11/site-packages (from rouge_score) (3.8.1)\n",
      "Requirement already satisfied: numpy in /home/coco97/miniconda3/envs/outil-tao2/lib/python3.11/site-packages (from rouge_score) (1.26.4)\n",
      "Requirement already satisfied: six>=1.14.0 in /home/coco97/.local/lib/python3.11/site-packages (from rouge_score) (1.16.0)\n",
      "Requirement already satisfied: click in /home/coco97/miniconda3/envs/outil-tao2/lib/python3.11/site-packages (from nltk->rouge_score) (8.1.7)\n",
      "Requirement already satisfied: joblib in /home/coco97/miniconda3/envs/outil-tao2/lib/python3.11/site-packages (from nltk->rouge_score) (1.4.2)\n",
      "Requirement already satisfied: regex>=2021.8.3 in /home/coco97/miniconda3/envs/outil-tao2/lib/python3.11/site-packages (from nltk->rouge_score) (2024.5.15)\n",
      "Requirement already satisfied: tqdm in /home/coco97/miniconda3/envs/outil-tao2/lib/python3.11/site-packages (from nltk->rouge_score) (4.66.4)\n"
     ]
    }
   ],
   "source": [
    "!pip install rouge_score"
   ]
  },
  {
   "cell_type": "code",
   "execution_count": 19,
   "metadata": {},
   "outputs": [
    {
     "name": "stderr",
     "output_type": "stream",
     "text": [
      "[nltk_data] Downloading package punkt to /home/coco97/nltk_data...\n",
      "[nltk_data]   Package punkt is already up-to-date!\n",
      "[nltk_data] Downloading package wordnet to /home/coco97/nltk_data...\n",
      "[nltk_data]   Package wordnet is already up-to-date!\n",
      "[nltk_data] Downloading package stopwords to /home/coco97/nltk_data...\n",
      "[nltk_data]   Package stopwords is already up-to-date!\n"
     ]
    },
    {
     "name": "stdout",
     "output_type": "stream",
     "text": [
      "    id_histoire    rouge1    rouge2    rougeL\n",
      "0             1  0.019763  0.017822  0.019763\n",
      "1             2  0.017778  0.016529  0.017778\n",
      "2             3  0.048900  0.039312  0.048900\n",
      "3             4  0.009852  0.008876  0.009852\n",
      "4             5  0.010770  0.009704  0.010770\n",
      "..          ...       ...       ...       ...\n",
      "68           69  0.014286  0.012522  0.014286\n",
      "69           70  0.029851  0.027916  0.029851\n",
      "70           71  0.026236  0.024267  0.026236\n",
      "71           72  0.003571  0.002384  0.003571\n",
      "72           73  0.018706  0.017174  0.018706\n",
      "\n",
      "[73 rows x 4 columns]\n"
     ]
    }
   ],
   "source": [
    "import re\n",
    "import nltk\n",
    "import string\n",
    "from nltk.stem import WordNetLemmatizer, PorterStemmer\n",
    "from nltk.tokenize import word_tokenize\n",
    "from nltk.corpus import stopwords\n",
    "from rouge_score import rouge_scorer\n",
    "\n",
    "nltk.download('punkt')\n",
    "nltk.download('wordnet')\n",
    "nltk.download('stopwords')\n",
    "stop_words = set(stopwords.words('french'))\n",
    "\n",
    "\n",
    "lemmatizer = WordNetLemmatizer()\n",
    "stemmer = PorterStemmer()\n",
    "\n",
    "# Chargement du DataFrame\n",
    "df = pd.read_csv('../data/histoires_resumes_duplicate.csv')\n",
    "\n",
    "# initialisation du calculateur de scores ROUGE\n",
    "scorer = rouge_scorer.RougeScorer(['rouge1', 'rouge2', 'rougeL'], use_stemmer=True)\n",
    "\n",
    "# initialisation des listes pour stocker les scores\n",
    "ids = []\n",
    "rouge1_scores = []\n",
    "rouge2_scores = []\n",
    "rougeL_scores = []\n",
    "\n",
    "# pour chaque ligne il calcul le score rouge avec un prétraitement \n",
    "for index, row in df.iterrows():\n",
    "    histoire = row['histoire']\n",
    "    resume = row['resumes']\n",
    "\n",
    "    # prétraitement du texte (retirer la ponctuation et les stopwords,  lemmatiser, stemming (enlever les suffixe/prefixes))\n",
    "    histoire = re.sub(r'[^\\w\\s]', '', histoire)  \n",
    "    histoire = ' '.join([lemmatizer.lemmatize(stemmer.stem(w)) for w in word_tokenize(histoire) if w not in stop_words])  \n",
    "\n",
    "    resume = re.sub(r'[^\\w\\s]', '', resume)\n",
    "    resume = ' '.join([lemmatizer.lemmatize(stemmer.stem(w)) for w in word_tokenize(resume) if w not in stop_words])  \n",
    "\n",
    "    # calcul des scores \n",
    "    scores = scorer.score(histoire, resume)\n",
    "\n",
    "    # ajouter les scores et les ids aux listes\n",
    "    ids.append(row['id'])\n",
    "    rouge1_scores.append(scores['rouge1'].fmeasure)\n",
    "    rouge2_scores.append(scores['rouge2'].fmeasure)\n",
    "    rougeL_scores.append(scores['rougeL'].fmeasure)\n",
    "\n",
    "# nouveau fichier df avec les scores\n",
    "df_scores = pd.DataFrame({\n",
    "    'id_histoire': ids,\n",
    "    'rouge1': rouge1_scores,\n",
    "    'rouge2': rouge2_scores,\n",
    "    'rougeL': rougeL_scores\n",
    "})\n",
    "\n",
    "# Sauvegarder les scores dans un nouveau fichier CSV\n",
    "output_file = '../data/histoires_resumes_rouge_scores.csv'\n",
    "df_scores.to_csv(output_file, index=False, encoding='utf-8')\n",
    "\n",
    "print(df_scores)"
   ]
  },
  {
   "cell_type": "markdown",
   "metadata": {},
   "source": [
    "(voir analyse ci-dessous)"
   ]
  },
  {
   "cell_type": "code",
   "execution_count": 20,
   "metadata": {},
   "outputs": [
    {
     "name": "stdout",
     "output_type": "stream",
     "text": [
      "    id_histoire    rouge1    rouge2    rougeL\n",
      "0             1  0.023599  0.022445  0.023599\n",
      "1             2  0.015689  0.014953  0.015689\n",
      "2             3  0.041783  0.039106  0.041783\n",
      "3             4  0.010143  0.009552  0.010143\n",
      "4             5  0.010013  0.009352  0.010013\n",
      "..          ...       ...       ...       ...\n",
      "68           69  0.016511  0.015427  0.016511\n",
      "69           70  0.028015  0.026829  0.028015\n",
      "70           71  0.023003  0.021753  0.023003\n",
      "71           72  0.003681  0.002947  0.003681\n",
      "72           73  0.018657  0.017740  0.018657\n",
      "\n",
      "[73 rows x 4 columns]\n"
     ]
    }
   ],
   "source": [
    "# Créer des listes pour stocker les scores\n",
    "ids = []\n",
    "rouge1_scores = []\n",
    "rouge2_scores = []\n",
    "rougeL_scores = []\n",
    "\n",
    "# Parcours de chaque ligne du DataFrame et calculer les scores ROUGE\n",
    "for index, row in df.iterrows():\n",
    "    histoire = row['histoire']\n",
    "    resume = row['resumes']\n",
    "\n",
    "    # Calcul des scores ROUGE sans prétraitement\n",
    "    scores = scorer.score(histoire, resume)\n",
    "\n",
    "    # Ajout des scores et d ids aux listes\n",
    "    ids.append(row['id'])\n",
    "    rouge1_scores.append(scores['rouge1'].fmeasure)\n",
    "    rouge2_scores.append(scores['rouge2'].fmeasure)\n",
    "    rougeL_scores.append(scores['rougeL'].fmeasure)\n",
    "\n",
    "# nouveau fichier df avec les scores\n",
    "df_scores = pd.DataFrame({\n",
    "    'id_histoire': ids,\n",
    "    'rouge1': rouge1_scores,\n",
    "    'rouge2': rouge2_scores,\n",
    "    'rougeL': rougeL_scores\n",
    "})\n",
    "\n",
    "# Sauvegarder les scores dans un nouveau fichier CSV\n",
    "output_file = '../data/histoires_resumes_rouge_scores_no_preprocessing.csv'\n",
    "df_scores.to_csv(output_file, index=False, encoding='utf-8')\n",
    "\n",
    "print(df_scores)"
   ]
  },
  {
   "cell_type": "markdown",
   "metadata": {},
   "source": [
    "Les résultats de la métrique ROUGE sont des mesures de similarités de corpus de texte. On retrouve dans ce tableau : \n",
    "- une colonne identifiant qui correspond respectivement à chaque paire histoire/résumé, \n",
    "- une colonne rouge1 qui correspond à la métrique ROUGE-1, plus précisément le rappel, la précision et le score-F pour les mots individuels. Plus le score est proche de 1 plus, les résumés sont similaires aux histoires.\n",
    "- une colonne rouge2 qui correspond à la métrique ROUGE-2, contient les mêmes caractéristiques que le 1, mais traite les bigrammes\n",
    "- une colonne rougeL qui correspond à la métrique ROUGE-L, contient les mêmes caractéristiques que les 2 précédents, mais traite les plus longue sous-séquence commune entre le récit et le résumé .\n",
    "\n",
    "On peut voir que les scores sont très bas, ce qui laisse penser que les résumés sont peu similaires aux histoires. Je pense que cela est du au fait que les résumés sont très petits, ils font entre une à deux lignes. Les résumés ne sont pas assez développés pour cette raison, les résultats se rapprochent tous de 0. Il n'y a pas beaucoup de mots en commun qui ont été tiré des récits pour écrire les résumés. \n",
    "\n",
    "J'ai voulu voir s'il y avait une différence entre un calcul de métrique sur des données prétraité, c'est à dire ne contenant pas de stopwords, de ponctuations et en ayant subit une lemmatisation et un stemming (réduire les mots à leur forme de base) et sur des données non traités. Il n'y a pas de fort changement les résultats restent bas et relativement les mêmes à quelques dizièmes près parfois."
   ]
  },
  {
   "cell_type": "markdown",
   "metadata": {},
   "source": [
    "Tentative de la mesure de corrélation, que je n'ai pas réussi. "
   ]
  },
  {
   "cell_type": "code",
   "execution_count": 21,
   "metadata": {},
   "outputs": [
    {
     "name": "stdout",
     "output_type": "stream",
     "text": [
      "Requirement already satisfied: scipy in /home/coco97/miniconda3/envs/outil-tao2/lib/python3.11/site-packages (1.13.0)\n",
      "Requirement already satisfied: numpy<2.3,>=1.22.4 in /home/coco97/miniconda3/envs/outil-tao2/lib/python3.11/site-packages (from scipy) (1.26.4)\n"
     ]
    }
   ],
   "source": [
    "!pip install scipy"
   ]
  },
  {
   "cell_type": "code",
   "execution_count": 22,
   "metadata": {},
   "outputs": [
    {
     "name": "stdout",
     "output_type": "stream",
     "text": [
      "--------------------------------\n",
      "mode: two-sided\n",
      "Pearson: +5.8650e-02; p-value: +6.2209e-01\n",
      "Spearman: +4.1788e-02; p-value: +7.2557e-01\n",
      "--------------------------------\n",
      "mode: greater\n",
      "Pearson: +5.8650e-02; p-value: +3.1105e-01\n",
      "Spearman: +4.1788e-02; p-value: +3.6278e-01\n",
      "--------------------------------\n",
      "mode: less\n",
      "Pearson: +5.8650e-02; p-value: +6.8895e-01\n",
      "Spearman: +4.1788e-02; p-value: +6.3722e-01\n"
     ]
    },
    {
     "data": {
      "image/png": "[encoded data removed]",
      "text/plain": [
       "<Figure size 640x480 with 1 Axes>"
      ]
     },
     "metadata": {},
     "output_type": "display_data"
    }
   ],
   "source": [
    "import numpy as np\n",
    "import scipy.stats\n",
    "import matplotlib.pyplot as plt\n",
    "\n",
    "# Convertir les chaînes de caractères en listes de tokens\n",
    "# comme dans le fichier script visualise_data on calcul la longueur \n",
    "df['h_length'] = df['histoire'].apply(lambda x: len(x.split()))\n",
    "df['r_length'] = df['resumes'].apply(lambda x: len(x.split()))\n",
    "\n",
    "a = df['r_length'].values\n",
    "b = df['h_length'].values\n",
    "\n",
    "for mode in [\"two-sided\", \"greater\", \"less\"]:\n",
    "    print(\"-\" * 32)\n",
    "    print(\"mode:\", mode)\n",
    "    corr, p = scipy.stats.pearsonr(a,b, alternative=mode)\n",
    "    print(f\"Pearson: {corr:+.4e}; p-value: {p:+.4e}\")\n",
    "    corr, p = scipy.stats.spearmanr(a,b, alternative=mode)\n",
    "    print(f\"Spearman: {corr:+.4e}; p-value: {p:+.4e}\")\n",
    "\n",
    "# affichage du graphique \n",
    "plt.scatter(a,b)\n",
    "plt.xlabel(\"Longueur des résumés\")\n",
    "plt.ylabel(\"Longueur des histoires\")\n",
    "plt.tight_layout()\n",
    "plt.show()"
   ]
  },
  {
   "cell_type": "markdown",
   "metadata": {},
   "source": [
    "Le graphique ci-dessous représente le calcul des corrélations de Pearson et Spearman entre les longueurs des histoires et des résumés qui ont été scrappé.  On peut constater que les points sur le graphique éparpillés, ils ne suivent aucune direction en particulier. En conclusion, il n'y a aucune corrélation entre les longueurs."
   ]
  },
  {
   "cell_type": "code",
   "execution_count": null,
   "metadata": {},
   "outputs": [],
   "source": []
  }
 ],
 "metadata": {
  "kernelspec": {
   "display_name": "outil-tao2",
   "language": "python",
   "name": "python3"
  },
  "language_info": {
   "codemirror_mode": {
    "name": "ipython",
    "version": 3
   },
   "file_extension": ".py",
   "mimetype": "text/x-python",
   "name": "python",
   "nbconvert_exporter": "python",
   "pygments_lexer": "ipython3",
   "version": "3.11.9"
  }
 },
 "nbformat": 4,
 "nbformat_minor": 2
}
